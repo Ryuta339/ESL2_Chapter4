{
 "cells": [
  {
   "cell_type": "markdown",
   "metadata": {},
   "source": [
    "# Fisher の線形判別分析\n",
    "\n",
    "\\begin{align*}\n",
    "    \\mathbf{W} =& \\sum_{k \\in \\mathcal{G}} \\sum_{i:g_i=k} (\\mathbf{x}_i - \\boldsymbol{\\mu}_k) (\\mathbf{x}_i-\\boldsymbol{\\mu}_k)^T \\\\\n",
    "    \\mathbf{B} =& \\mathbf{M}^T \\mathbf{M} \\notag \\\\\n",
    "    =& \\left[ \\begin{matrix}\n",
    "            \\boldsymbol{\\mu}_1 &\n",
    "            \\boldsymbol{\\mu}_2 & \n",
    "            \\cdots &\n",
    "            \\boldsymbol{\\mu}_K\n",
    "        \\end{matrix} \\right]\n",
    "        \\left[ \\begin{matrix}\n",
    "            \\boldsymbol{\\mu}_1 ^T \\\\\n",
    "            \\boldsymbol{\\mu}_2^T \\\\\n",
    "            \\vdots \\\\\n",
    "            \\boldsymbol{\\mu}_K^T\n",
    "        \\end{matrix} \\right]\n",
    "\\end{align*}\n",
    "と定義して、\n",
    "\\begin{align*}\n",
    "    \\max_{\\mathbf{a}} \\mathbf{a}^T \\mathbf{B} \\mathbf{a} \\quad\n",
    "    {\\rm subject\\ to\\ }\n",
    "    \\mathbf{a}^T \\mathbf{W} \\mathbf{a} = 1\n",
    "\\end{align*}\n",
    "を解く。\n",
    "Lagrange の未定乗数法を用いる。\n",
    "\\begin{align*}\n",
    "    L(\\mathbf{a}, \\lambda)\n",
    "    = \\mathbf{a}^T \\mathbf{B} \\mathbf{a} - \\lambda (\\mathbf{a}^T \\mathbf{B} \\mathbf{a} - 1)\n",
    "\\end{align*}\n",
    "とおいて微分する。\n",
    "\\begin{align*}\n",
    "    \\cfrac{\\partial L}{\\partial \\mathbf{a}}\n",
    "    =& 2 \\mathbf{B} \\mathbf{a} - 2 \\lambda \\mathbf{W} \\mathbf{a} = 0 \\\\\n",
    "    \\therefore\\quad\n",
    "    \\mathbf{B} \\mathbf{a} =& \\lambda \\mathbf{W} \\mathbf{a}\n",
    "\\end{align*}\n",
    "\n",
    "\n",
    "もし$\\mathbf{W}$ が正則であれば\n",
    "\\begin{align*}\n",
    "    \\mathbf{W}^{-1} \\mathbf{B} \\mathbf{a} = \\lambda \\mathbf{a}\n",
    "\\end{align*}\n",
    "という固有値問題になる。\n",
    "\n",
    "固有値の大きい順に固有ベクトルを$L$個とって次元を削減する。"
   ]
  },
  {
   "cell_type": "code",
   "execution_count": 70,
   "metadata": {},
   "outputs": [
    {
     "data": {
      "text/plain": [
       "[<matplotlib.lines.Line2D at 0x10d1dbc88>]"
      ]
     },
     "execution_count": 70,
     "metadata": {},
     "output_type": "execute_result"
    },
    {
     "data": {
      "image/png": "[encoded data removed]",
      "text/plain": [
       "<Figure size 432x288 with 1 Axes>"
      ]
     },
     "metadata": {
      "needs_background": "light"
     },
     "output_type": "display_data"
    }
   ],
   "source": [
    "# 2次元データの固有値方向\n",
    "\n",
    "import numpy as np;\n",
    "import matplotlib.pyplot as plt;\n",
    "\n",
    "N = 400;\n",
    "K = 2;\n",
    "dim = 2;\n",
    "L = 1;\n",
    "\n",
    "# データ生成\n",
    "m = np.array ([[0,2], [-1,0.5]]);\n",
    "P = np.array ([[1, 1],[-1, 1]]) / np.array (2);\n",
    "S_sqrt = np.array ([[2.25, 0], [0, 1]]);\n",
    "X = np.zeros ((dim, N, K));\n",
    "for k in range (K):\n",
    "    tmp = P.dot (S_sqrt).dot (np.random.randn (dim,N)) + m[:,k].reshape (dim,1);\n",
    "    X[:,:,k] = tmp;\n",
    "    plt.scatter (X[0,:,k], X[1,:,k]);\n",
    "\n",
    "    \n",
    "\n",
    "# 固有値計算\n",
    "mu = np.zeros ((K, dim));\n",
    "S_w = np.zeros ((K, dim, dim));\n",
    "for k in range (K):\n",
    "    mu[k,:] = np.mean (X[:,:,k], axis=1).T;\n",
    "\n",
    "for k in range (K):\n",
    "    for i in range (N):\n",
    "        xi = (X[:,i,k]-mu[k,:]).reshape (dim,1); \n",
    "        S_w[k,:,:] += xi.dot (xi.T);\n",
    "\n",
    "W = np.sum (S_w, axis=0);\n",
    "B = mu.T.dot (mu);\n",
    "\n",
    "[l, a] = np.linalg.eig (np.linalg.inv (W).dot (B));\n",
    "# print (l);\n",
    "# print (a);\n",
    "scale = 2.0;\n",
    "o = np.array ([[-3],[-4]],dtype=float);\n",
    "plt.plot ([o[0,0],scale*a[0,0]+o[0,0]],[o[1,0],scale*a[1,0]+o[1,0]], color='red', lw=4)       # 第１固有値方向\n",
    "plt.plot ([o[0,0],scale*a[0,1]+o[0,0]],[o[1,0],scale*a[1,1]+o[1,0]], color='blue', lw=4)　    # 第２固有値方向"
   ]
  },
  {
   "cell_type": "code",
   "execution_count": 73,
   "metadata": {},
   "outputs": [
    {
     "ename": "IndexError",
     "evalue": "too many indices for array",
     "output_type": "error",
     "traceback": [
      "\u001b[0;31m---------------------------------------------------------------------------\u001b[0m",
      "\u001b[0;31mIndexError\u001b[0m                                Traceback (most recent call last)",
      "\u001b[0;32m<ipython-input-73-6ad213fd7072>\u001b[0m in \u001b[0;36m<module>\u001b[0;34m()\u001b[0m\n\u001b[1;32m     32\u001b[0m \u001b[0mS_w\u001b[0m \u001b[0;34m=\u001b[0m \u001b[0mnp\u001b[0m\u001b[0;34m.\u001b[0m\u001b[0mzeros\u001b[0m \u001b[0;34m(\u001b[0m\u001b[0;34m(\u001b[0m\u001b[0mK\u001b[0m\u001b[0;34m,\u001b[0m \u001b[0mdim\u001b[0m\u001b[0;34m,\u001b[0m \u001b[0mdim\u001b[0m\u001b[0;34m)\u001b[0m\u001b[0;34m)\u001b[0m\u001b[0;34m;\u001b[0m\u001b[0;34m\u001b[0m\u001b[0m\n\u001b[1;32m     33\u001b[0m \u001b[0;32mfor\u001b[0m \u001b[0mk\u001b[0m \u001b[0;32min\u001b[0m \u001b[0mrange\u001b[0m \u001b[0;34m(\u001b[0m\u001b[0mK\u001b[0m\u001b[0;34m)\u001b[0m\u001b[0;34m:\u001b[0m\u001b[0;34m\u001b[0m\u001b[0m\n\u001b[0;32m---> 34\u001b[0;31m     \u001b[0mmu\u001b[0m\u001b[0;34m[\u001b[0m\u001b[0mk\u001b[0m\u001b[0;34m,\u001b[0m\u001b[0;34m:\u001b[0m\u001b[0;34m]\u001b[0m \u001b[0;34m=\u001b[0m \u001b[0mnp\u001b[0m\u001b[0;34m.\u001b[0m\u001b[0mmean\u001b[0m \u001b[0;34m(\u001b[0m\u001b[0mtrain_X\u001b[0m\u001b[0;34m[\u001b[0m\u001b[0;34m:\u001b[0m\u001b[0;34m,\u001b[0m\u001b[0;34m:\u001b[0m\u001b[0;34m,\u001b[0m\u001b[0mk\u001b[0m\u001b[0;34m]\u001b[0m\u001b[0;34m,\u001b[0m \u001b[0maxis\u001b[0m\u001b[0;34m=\u001b[0m\u001b[0;36m1\u001b[0m\u001b[0;34m)\u001b[0m\u001b[0;34m.\u001b[0m\u001b[0mT\u001b[0m\u001b[0;34m;\u001b[0m\u001b[0;34m\u001b[0m\u001b[0m\n\u001b[0m\u001b[1;32m     35\u001b[0m \u001b[0;34m\u001b[0m\u001b[0m\n\u001b[1;32m     36\u001b[0m \u001b[0;32mfor\u001b[0m \u001b[0mk\u001b[0m \u001b[0;32min\u001b[0m \u001b[0mrange\u001b[0m \u001b[0;34m(\u001b[0m\u001b[0mK\u001b[0m\u001b[0;34m)\u001b[0m\u001b[0;34m:\u001b[0m\u001b[0;34m\u001b[0m\u001b[0m\n",
      "\u001b[0;31mIndexError\u001b[0m: too many indices for array"
     ]
    }
   ],
   "source": [
    "# 実データへの応用\n",
    "\n",
    "# 作りかけ 2019/06/02\n",
    "\n",
    "import csv\n",
    "\n",
    "#########################\n",
    "def normalization_data (X,dim):\n",
    "    m = np.mean (X,axis=0);\n",
    "    s = np.std (X,axis=0);\n",
    "    return (X-m.reshape (1,dim)) / s.reshape(1,dim);\n",
    "\n",
    "#########################\n",
    "\n",
    "\n",
    "# データ取得\n",
    "\n",
    "# 教師データ\n",
    "train_file = open(\"./data/vowel_training.csv\", \"r\", encoding=\"utf_8\", errors=\"\", newline=\"\" )\n",
    "train_f = csv.reader(train_file, delimiter=\",\", doublequote=True, lineterminator=\"\\r\\n\", quotechar='\"', skipinitialspace=True)\n",
    "header = next(train_f);\n",
    "train_data = np.array ([[float (x) for x in row[1:]] for row in train_f]);\n",
    "train_Y = np.array ([int(x-1) for x in train_data[:,0]]);\n",
    "train_X_raw = train_data[:,1:];\n",
    "\n",
    "K = len(np.unique(train_Y));\n",
    "N, dim = train_X_raw.shape;\n",
    "\n",
    "# データを正規化\n",
    "train_X = normalization_data (train_X_raw, dim)\n",
    "\n",
    "# 固有値計算\n",
    "mu = np.zeros ((K, dim));\n",
    "S_w = np.zeros ((K, dim, dim));\n",
    "for k in range (K):\n",
    "    mu[k,:] = np.mean (train_X[:,:,k], axis=1).T;\n",
    "\n",
    "for k in range (K):\n",
    "    for i in range (N):\n",
    "        xi = (train_X[i,:]-mu[k,:]).reshape (dim,1); \n",
    "        S_w[k,:,:] += xi.dot (xi.T);\n",
    "\n",
    "W = np.sum (S_w, axis=0);\n",
    "B = mu.T.dot (mu);\n",
    "\n",
    "[l, a] = np.linalg.eig (np.linalg.inv (W).dot (B));\n",
    "print (l);\n",
    "#print (a);\n",
    "#scale = 2.0;"
   ]
  }
 ],
 "metadata": {
  "kernelspec": {
   "display_name": "Python 3",
   "language": "python",
   "name": "python3"
  },
  "language_info": {
   "codemirror_mode": {
    "name": "ipython",
    "version": 3
   },
   "file_extension": ".py",
   "mimetype": "text/x-python",
   "name": "python",
   "nbconvert_exporter": "python",
   "pygments_lexer": "ipython3",
   "version": "3.7.0"
  }
 },
 "nbformat": 4,
 "nbformat_minor": 2
}
