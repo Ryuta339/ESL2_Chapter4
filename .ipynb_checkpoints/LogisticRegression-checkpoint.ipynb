{
 "cells": [
  {
   "cell_type": "markdown",
   "metadata": {},
   "source": [
    "\n",
    "\\begin{align*}\n",
    "    \\beta^{new} =& (\\boldsymbol{X}^T \\boldsymbol{W} \\boldsymbol{X})^{-1} \\boldsymbol{X}^T \\boldsymbol{W} \\boldsymbol{z} \\\\\n",
    "    \\boldsymbol{z} =& \\boldsymbol{X} \\beta^{old} + \\boldsymbol{W}^{-1} (\\boldsymbol{y} - \\boldsymbol{p})\n",
    "\\end{align*}\n",
    "\n",
    "ただし\n",
    "\\begin{align*}\n",
    "    \\boldsymbol{W} =& \\left( \\begin{matrix}\n",
    "        p(x_1;\\beta)(1 - p(x_1; \\beta)) & 0 & \\cdots & 0 \\\\\n",
    "        0 &p(x_2;\\beta)(1 - p(x_2; \\beta)) & \\cdots & 0 \\\\\n",
    "        \\vdots & \\vdots & \\ddots & \\vdots \\\\\n",
    "        0 & 0 & \\cdots & p(x_N;\\beta)(1 - p(x_N; \\beta))\n",
    "        \\end{matrix} \\right) \\\\\n",
    "    \\boldsymbol{p} =& \\left(\\begin{matrix}\n",
    "        p(x_1;\\beta) \\\\\n",
    "        p(x_2;\\beta) \\\\\n",
    "        \\vdots \\\\\n",
    "        p(x_N;\\beta)\n",
    "        \\end{matrix} \\right)\n",
    "\\end{align*}\n"
   ]
  },
  {
   "cell_type": "code",
   "execution_count": 43,
   "metadata": {},
   "outputs": [
    {
     "data": {
      "image/png": "[encoded data removed]",
      "text/plain": [
       "<Figure size 432x288 with 1 Axes>"
      ]
     },
     "metadata": {
      "needs_background": "light"
     },
     "output_type": "display_data"
    },
    {
     "name": "stdout",
     "output_type": "stream",
     "text": [
      "0\n",
      "0.9741475241358241\n",
      "4\n",
      "6.127485458664544e-06\n",
      "[[0.00419631]\n",
      " [1.57050441]]\n"
     ]
    }
   ],
   "source": [
    "# 1次元の場合\n",
    "\n",
    "import numpy as np;\n",
    "import matplotlib.pyplot as plt;\n",
    "\n",
    "N = 100;\n",
    "dim = 1;\n",
    "MaxIter = 1e10;\n",
    "epsilon = 1e-5;\n",
    "\n",
    "mu0 = -1;\n",
    "mu1 = 1;\n",
    "\n",
    "# creatting data\n",
    "\n",
    "sigma = 1;\n",
    "X0 = sigma*np.random.randn (N)+mu0;\n",
    "X1 = sigma*np.random.randn (N)+mu1;\n",
    "\n",
    "plt.hist (X0, bins=10, facecolor='b', alpha=0.75);\n",
    "plt.hist (X1, bins=10, facecolor='darkorange', alpha=0.75);\n",
    "plt.show ();\n",
    "\n",
    "\n",
    "X = np.c_[np.ones((2*N,1)), np.r_[X0, X1]];\n",
    "Y = np.r_[np.zeros((N,1)), np.ones((N,1))];\n",
    "beta = np.ones ((dim+1,1));\n",
    "t = 0;\n",
    "while t<MaxIter:\n",
    "    tmp = np.exp (-beta.T.dot (X.T)).reshape (2*N, 1);\n",
    "    p = 1 / (1+tmp);\n",
    "    w = p * (np.ones_like (p) - p);\n",
    "    W = np.diag (w.reshape (2*N,));\n",
    "    W_inv = np.diag (1 / w.reshape (2*N,));\n",
    "    Z = X.dot (beta) + W_inv.dot (Y-p);\n",
    "    beta_new = np.linalg.inv (X.T.dot (W). dot (X)). dot (X.T). dot(W). dot(Z);\n",
    "    if (np.linalg.norm (beta_new-beta,ord=2) < epsilon):\n",
    "        print (t);\n",
    "        print (np.linalg.norm (beta_new-beta,ord=2));\n",
    "        break;\n",
    "     \n",
    "    \n",
    "    t += 1;\n",
    "    beta = beta_new;\n",
    "\n",
    "\n",
    "\n",
    "print (beta); # beta[0,0] = 0 であればok\n",
    "#x = np.linspace (-6,6);  \n",
    "#plt.plot (x, - (beta[0,0] + beta[1,0] * x) / beta[2,0]);"
   ]
  },
  {
   "cell_type": "code",
   "execution_count": 42,
   "metadata": {},
   "outputs": [
    {
     "name": "stdout",
     "output_type": "stream",
     "text": [
      "8\n",
      "1.1747284726496573e-10\n",
      "[[-3.55879792]\n",
      " [-2.81042766]\n",
      " [ 3.74573602]]\n"
     ]
    },
    {
     "data": {
      "image/png": "[encoded data removed]",
      "text/plain": [
       "<Figure size 432x288 with 1 Axes>"
      ]
     },
     "metadata": {
      "needs_background": "light"
     },
     "output_type": "display_data"
    }
   ],
   "source": [
    "# 2次元の場合\n",
    "# 反復重み付き最小二乗法はうまくいかなかったので\n",
    "# 普通にNewton-Raphson法を用いた。\n",
    "\n",
    "import numpy as np;\n",
    "import matplotlib.pyplot as plt;\n",
    "from numpy.linalg import LinAlgError;\n",
    "from sklearn.linear_model import LogisticRegression;\n",
    "\n",
    "N = 100;\n",
    "dim = 2;\n",
    "MaxIter = 1e3;\n",
    "epsilon = 1e-5;\n",
    "\n",
    "mu0 = np.array ([[2],[1]]);\n",
    "mu1 = np.array ([[-2],[1]]);\n",
    "\n",
    "# creating data\n",
    "P = np.array ([[0.5, np.sqrt(3)/2], [-np.sqrt(3)/2, 0.5]]);\n",
    "D_sqrt = np.array ([[0.64, 0], [0, 2]]);\n",
    "X0 = P.dot (D_sqrt).dot (np.random.randn (dim,N)) + mu0;\n",
    "X1 = P.dot (D_sqrt).dot (np.random.randn (dim,N)) + mu1;\n",
    "\n",
    "plt.scatter (X0[0,:], X0[1,:]);\n",
    "plt.scatter (X1[0,:], X1[1,:]);\n",
    "\n",
    "################ scikit learn のLogisticRegression を使う場合\n",
    "#\n",
    "# X = np.c_[X0,X1].T;\n",
    "# Y = np.c_[np.zeros((1,N)), np.ones((1,N))].T;\n",
    "# \n",
    "# lf = LogisticRegression(random_state=0, solver='lbfgs', multi_class='multinomial').fit(X, Y);\n",
    "# beta = lf.coef_;\n",
    "# beta0 = lf.intercept_;\n",
    "# print (lf.coef_);\n",
    "# print (lf.intercept_);\n",
    "# \n",
    "# \n",
    "# x = np.linspace (-6,6);  \n",
    "# plt.plot (x, - (beta0 + beta[0,0] * x) / beta[0,1], 'r-');\n",
    "\n",
    "\n",
    "################# 教科書通りやる場合 \n",
    "\n",
    "X = np.r_[np.ones((1,2*N)), np.c_[X0, X1]].T;\n",
    "Y = np.c_[np.zeros((1,N)), np.ones((1,N))].T;\n",
    "beta = np.zeros ((dim+1,1));\n",
    "t = 0;\n",
    "while t<MaxIter:\n",
    "    tmp = np.exp (-beta.T.dot (X.T));\n",
    "    tmp = tmp.reshape (2*N, 1);\n",
    "    p = 1 / (1+tmp);\n",
    "    w = p * (np.ones_like (p) - p);\n",
    "    W = np.diag (w.reshape (2*N,));\n",
    "    # 以下は反復重み付き最小二乗法を使った場合。\n",
    "    # うまくいかない\n",
    "    #\n",
    "    # W_inv = np.diag (1 / w.reshape (2*N,));\n",
    "    # if t%100==0:\n",
    "    #     print (tmp.T);\n",
    "    #     print (p.T);\n",
    "    #     print (w.T);\n",
    "    #     print (np.diag (W))\n",
    "    #     print (np.diag(W_inv));\n",
    "    # Z = X.dot (beta) + W_inv.dot (Y-p);\n",
    "    # beta_new = np.linalg.inv (X.T.dot (W). dot (X)). dot (X.T). dot(W). dot(Z);\n",
    "    try:\n",
    "        beta_new = beta + np.linalg.inv (X.T.dot(W).dot(X)) .dot(X.T). dot(Y-p);\n",
    "        diff = np.linalg.norm (beta_new-beta,ord=2);\n",
    "        if (diff < epsilon):\n",
    "            print (t);\n",
    "            print (diff);\n",
    "            break;\n",
    "\n",
    "    except LinAlgError:\n",
    "        print ('LinAlgError: maybe singular matrix');\n",
    "        break;\n",
    "    \n",
    "    t += 1;\n",
    "    beta = beta_new;\n",
    "\n",
    "\n",
    "\n",
    "print (beta);\n",
    "x = np.linspace (-6,6);  \n",
    "plt.plot (x, - (beta[0,0] + beta[1,0] * x) / beta[2,0]);"
   ]
  }
 ],
 "metadata": {
  "kernelspec": {
   "display_name": "Python 3",
   "language": "python",
   "name": "python3"
  },
  "language_info": {
   "codemirror_mode": {
    "name": "ipython",
    "version": 3
   },
   "file_extension": ".py",
   "mimetype": "text/x-python",
   "name": "python",
   "nbconvert_exporter": "python",
   "pygments_lexer": "ipython3",
   "version": "3.7.0"
  }
 },
 "nbformat": 4,
 "nbformat_minor": 2
}
