{
 "cells": [
  {
   "cell_type": "code",
   "execution_count": 52,
   "metadata": {},
   "outputs": [
    {
     "name": "stderr",
     "output_type": "stream",
     "text": [
      "/usr/local/lib/python3.7/site-packages/sklearn/utils/validation.py:724: DataConversionWarning: A column-vector y was passed when a 1d array was expected. Please change the shape of y to (n_samples, ), for example using ravel().\n",
      "  y = column_or_1d(y, warn=True)\n"
     ]
    },
    {
     "name": "stdout",
     "output_type": "stream",
     "text": [
      "[[-1.42673272  1.6568229 ]]\n",
      "[-1.57924612]\n"
     ]
    },
    {
     "data": {
      "image/png": "[encoded data removed]",
      "text/plain": [
       "<Figure size 432x288 with 1 Axes>"
      ]
     },
     "metadata": {
      "needs_background": "light"
     },
     "output_type": "display_data"
    }
   ],
   "source": [
    "import numpy as np;\n",
    "import matplotlib.pyplot as plt;\n",
    "from sklearn.linear_model import LogisticRegression;\n",
    "\n",
    "N = 200;\n",
    "dim = 2;\n",
    "MaxIter = 1e10;\n",
    "epsilon = 1e-5;\n",
    "\n",
    "mu0 = np.array ([[2],[1]]);\n",
    "mu1 = np.array ([[-2],[1]]);\n",
    "\n",
    "# creating data\n",
    "P = np.array ([[0.5, np.sqrt(3)/2], [-np.sqrt(3)/2, 0.5]]);\n",
    "D_sqrt = np.array ([[0.64, 0], [0, 2]]);\n",
    "X0 = P.dot (D_sqrt).dot (np.random.randn (dim,N)) + mu0;\n",
    "X1 = P.dot (D_sqrt).dot (np.random.randn (dim,N)) + mu1;\n",
    "\n",
    "plt.scatter (X0[0,:], X0[1,:]);\n",
    "plt.scatter (X1[0,:], X1[1,:]);\n",
    "\n",
    "\n",
    "X = np.c_[X0,X1].T;\n",
    "Y = np.c_[np.zeros((1,N)), np.ones((1,N))].T;\n",
    "\n",
    "lf = LogisticRegression(random_state=0, solver='lbfgs', multi_class='multinomial').fit(X, Y);\n",
    "beta = lf.coef_;\n",
    "beta0 = lf.intercept_;\n",
    "print (lf.coef_);\n",
    "print (lf.intercept_);\n",
    "\n",
    "\n",
    "x = np.linspace (-6,6);  \n",
    "plt.plot (x, - (beta0 + beta[0,0] * x) / beta[0,1], 'r-');\n",
    "\n",
    "#X = np.r_[np.ones((1,2*N)), np.c_[X0, X1]].T;\n",
    "#Y = np.c_[np.zeros((1,N)), np.ones((1,N))].T;\n",
    "#beta = np.ones ((dim+1,1));\n",
    "#t = 0;\n",
    "#while t<MaxIter:\n",
    "#    tmp = np.exp (-beta.T.dot (X.T)).reshape (2*N, 1);\n",
    "#    p = 1 / (1+tmp);\n",
    "#    w = p * (np.ones_like (p) - p);\n",
    "#    W = np.diag (w.reshape (400,));\n",
    "#    W_inv = np.diag (1 / w.reshape (400,));\n",
    "#    Z = X.dot (beta) + W_inv.dot (Y-p);\n",
    "#    beta_new = np.linalg.inv (X.T.dot (W). dot (X)). dot (X.T). dot(W). dot(Z);\n",
    "#    if (np.abs (beta.T.dot (beta_new)) < epsilon):\n",
    "#        print (t);\n",
    "#        print (beta.T.dot (beta_new));\n",
    "#        break;\n",
    "#     \n",
    "#    if t%1000==0:\n",
    "#        print (t);\n",
    "#        print (beta.T.dot (beta_new));\n",
    "#    \n",
    "#    t += 1;\n",
    "#    beta = beta_new;\n",
    "#\n",
    "#\n",
    "#\n",
    "#print (beta);\n",
    "#x = np.linspace (-6,6);  \n",
    "#plt.plot (x, - (beta[0,0] + beta[1,0] * x) / beta[2,0]);"
   ]
  },
  {
   "cell_type": "markdown",
   "metadata": {},
   "source": []
  }
 ],
 "metadata": {
  "kernelspec": {
   "display_name": "Python 3",
   "language": "python",
   "name": "python3"
  },
  "language_info": {
   "codemirror_mode": {
    "name": "ipython",
    "version": 3
   },
   "file_extension": ".py",
   "mimetype": "text/x-python",
   "name": "python",
   "nbconvert_exporter": "python",
   "pygments_lexer": "ipython3",
   "version": "3.7.0"
  }
 },
 "nbformat": 4,
 "nbformat_minor": 2
}
