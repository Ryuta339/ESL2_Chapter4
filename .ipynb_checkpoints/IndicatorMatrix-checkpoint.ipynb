{
 "cells": [
  {
   "cell_type": "markdown",
   "metadata": {},
   "source": [
    "# 指標応答行列を用いた手法\n",
    "\n",
    "\\begin{align*}\n",
    "    \\hat{\\mathbf{Y}} = \\mathbf{X} (\\mathbf{X}^T \\mathbf{X})^{-1} \\mathbf{X}^T \\mathbf{Y}\n",
    "\\end{align*}"
   ]
  },
  {
   "cell_type": "code",
   "execution_count": 1,
   "metadata": {},
   "outputs": [
    {
     "ename": "NameError",
     "evalue": "name 'fig' is not defined",
     "output_type": "error",
     "traceback": [
      "\u001b[0;31m---------------------------------------------------------------------------\u001b[0m",
      "\u001b[0;31mNameError\u001b[0m                                 Traceback (most recent call last)",
      "\u001b[0;32m<ipython-input-1-90a88f5f21f2>\u001b[0m in \u001b[0;36m<module>\u001b[0;34m()\u001b[0m\n\u001b[1;32m     34\u001b[0m \u001b[0max\u001b[0m \u001b[0;34m=\u001b[0m \u001b[0mplt\u001b[0m\u001b[0;34m.\u001b[0m\u001b[0mgca\u001b[0m \u001b[0;34m(\u001b[0m\u001b[0;34m)\u001b[0m\u001b[0;34m;\u001b[0m\u001b[0;34m\u001b[0m\u001b[0m\n\u001b[1;32m     35\u001b[0m \u001b[0msurf\u001b[0m \u001b[0;34m=\u001b[0m \u001b[0max\u001b[0m\u001b[0;34m.\u001b[0m\u001b[0mcontourf\u001b[0m \u001b[0;34m(\u001b[0m\u001b[0mxv0\u001b[0m\u001b[0;34m,\u001b[0m \u001b[0mxv1\u001b[0m\u001b[0;34m,\u001b[0m \u001b[0mnp\u001b[0m\u001b[0;34m.\u001b[0m\u001b[0margmax\u001b[0m \u001b[0;34m(\u001b[0m\u001b[0my_pred\u001b[0m\u001b[0;34m,\u001b[0m \u001b[0maxis\u001b[0m\u001b[0;34m=\u001b[0m\u001b[0;36m1\u001b[0m\u001b[0;34m)\u001b[0m\u001b[0;34m.\u001b[0m\u001b[0mreshape\u001b[0m \u001b[0;34m(\u001b[0m\u001b[0mnuml\u001b[0m\u001b[0;34m,\u001b[0m\u001b[0mnuml\u001b[0m\u001b[0;34m)\u001b[0m\u001b[0;34m,\u001b[0m \u001b[0malpha\u001b[0m\u001b[0;34m=\u001b[0m\u001b[0;36m0.3\u001b[0m\u001b[0;34m)\u001b[0m\u001b[0;34m;\u001b[0m\u001b[0;34m\u001b[0m\u001b[0m\n\u001b[0;32m---> 36\u001b[0;31m \u001b[0mfig\u001b[0m\u001b[0;34m.\u001b[0m\u001b[0mcolorbar\u001b[0m \u001b[0;34m(\u001b[0m\u001b[0msurf\u001b[0m\u001b[0;34m)\u001b[0m\u001b[0;34m;\u001b[0m\u001b[0;34m\u001b[0m\u001b[0m\n\u001b[0m\u001b[1;32m     37\u001b[0m \u001b[0;34m\u001b[0m\u001b[0m\n\u001b[1;32m     38\u001b[0m \u001b[0;34m\u001b[0m\u001b[0m\n",
      "\u001b[0;31mNameError\u001b[0m: name 'fig' is not defined"
     ]
    }
   ],
   "source": [
    "import numpy as np\n",
    "import matplotlib.pyplot as plt;\n",
    "\n",
    "N = 50;\n",
    "dim = 2;\n",
    "K = 3;\n",
    "\n",
    "fig = plt.figure ();\n",
    "\n",
    "# create data\n",
    "mu = np.array ([[-2, 0, 2], [-2, 0, 2]]);\n",
    "Sigma = np.array (([0.5,0],[0,0.5]));\n",
    "X = np.zeros ((dim, N, K));\n",
    "for k in range (K):\n",
    "    tmp = Sigma.dot (np.random.randn (dim,N)) + mu[:,k].reshape (dim,1);\n",
    "    X[:,:,k] = tmp;\n",
    "    plt.scatter (X[0,:,k], X[1,:,k]);\n",
    "\n",
    "\n",
    "# predict\n",
    "X2 = np.r_[np.ones((1,K*N)), np.c_[X[:,:,0],X[:,:,1],X[:,:,2]]].T;\n",
    "tvec = np.r_[np.array ([0]*N), np.array([1]*N), np.array ([2]*N)]\n",
    "Y = np.eye (K)[tvec];\n",
    "\n",
    "B = np.linalg.inv (X2.T.dot (X2)).dot (X2.T).dot (Y);\n",
    "\n",
    "numl = 800;\n",
    "x0=np.linspace (-4, 4, numl);\n",
    "x1=np.linspace (-4, 4, numl);\n",
    "xv0, xv1 = np.meshgrid (x0,x1);\n",
    "xv0_flatten = xv0.flatten ().reshape (numl*numl,1);\n",
    "xv1_flatten = xv1.flatten ().reshape (numl*numl,1);\n",
    "xv_enlarged = np.c_[np.ones ((numl*numl,1)), xv0_flatten, xv1_flatten];\n",
    "y_pred = xv_enlarged.dot (B);\n",
    "ax = plt.gca ();\n",
    "surf = ax.contourf (xv0, xv1, np.argmax (y_pred, axis=1).reshape (numl,numl), alpha=0.3);\n",
    "fig.colorbar (surf);\n",
    "\n",
    "\n",
    "fig = plt.figure (figsize=(12,3));\n",
    "ax = fig.add_subplot (131);\n",
    "surf = ax.contourf (xv0, xv1, y_pred[:,0].reshape (numl,numl));\n",
    "fig.colorbar (surf);\n",
    "\n",
    "ax = fig.add_subplot (132);\n",
    "surf = ax.contourf (xv0, xv1, y_pred[:,1].reshape (numl,numl));\n",
    "fig.colorbar (surf);\n",
    "ax = fig.add_subplot (133);\n",
    "surf = ax.contourf (xv0, xv1, y_pred[:,2].reshape (numl,numl));\n",
    "fig.colorbar (surf);"
   ]
  }
 ],
 "metadata": {
  "kernelspec": {
   "display_name": "Python 3",
   "language": "python",
   "name": "python3"
  },
  "language_info": {
   "codemirror_mode": {
    "name": "ipython",
    "version": 3
   },
   "file_extension": ".py",
   "mimetype": "text/x-python",
   "name": "python",
   "nbconvert_exporter": "python",
   "pygments_lexer": "ipython3",
   "version": "3.7.0"
  }
 },
 "nbformat": 4,
 "nbformat_minor": 2
}
